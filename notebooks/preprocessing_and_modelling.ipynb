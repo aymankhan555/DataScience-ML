{
 "cells": [
  {
   "cell_type": "code",
   "execution_count": 48,
   "id": "0d54d0ef-f326-47c7-9aeb-da533ce64f34",
   "metadata": {},
   "outputs": [],
   "source": [
    "import numpy as np\n",
    "import pandas as pd\n",
    "import seaborn as sns\n",
    "import matplotlib.pyplot as plt\n",
    "\n",
    "from sklearn.model_selection import train_test_split, GridSearchCV , RandomizedSearchCV\n",
    "from sklearn.ensemble import RandomForestClassifier\n",
    "from sklearn.linear_model import LogisticRegression\n",
    "from xgboost import XGBClassifier\n",
    "from sklearn.metrics import confusion_matrix, f1_score, accuracy_score, classification_report\n",
    "from sklearn.preprocessing import OneHotEncoder, OrdinalEncoder ,LabelEncoder, StandardScaler\n",
    "\n",
    "from sklearn.pipeline import Pipeline\n",
    "from sklearn.compose import ColumnTransformer\n",
    "from sklearn.impute import SimpleImputer\n",
    "\n",
    "from imblearn.over_sampling import SMOTE\n",
    "import joblib"
   ]
  },
  {
   "cell_type": "code",
   "execution_count": 49,
   "id": "08884ea1-3d71-470d-86c5-2f5e1898f75f",
   "metadata": {},
   "outputs": [
    {
     "data": {
      "text/plain": [
       "Index(['Unnamed: 0', 'IDs', 'Churn', 'Customer_Age', 'Gender',\n",
       "       'Dependent_count', 'Education_Level', 'Marital_Status',\n",
       "       'Income_Category', 'Card_Category', 'Months_on_book',\n",
       "       'Total_Relationship_Count', 'Months_Inactive_12_mon',\n",
       "       'Contacts_Count_12_mon', 'Credit_Limit', 'Total_Revolving_Bal',\n",
       "       'Avg_Open_To_Buy', 'Total_Amt_Chng_Q4_Q1', 'Total_Trans_Amt',\n",
       "       'Total_Trans_Ct', 'Total_Ct_Chng_Q4_Q1', 'Avg_Utilization_Ratio'],\n",
       "      dtype='object')"
      ]
     },
     "execution_count": 49,
     "metadata": {},
     "output_type": "execute_result"
    }
   ],
   "source": [
    "df = pd.read_csv(\"../datasets/processed/BankChurners_cleaned.csv\")\n",
    "df.columns"
   ]
  },
  {
   "cell_type": "code",
   "execution_count": 50,
   "id": "c7276988-589f-43df-87ef-a1e5cecaaca4",
   "metadata": {},
   "outputs": [
    {
     "data": {
      "text/html": [
       "<div>\n",
       "<style scoped>\n",
       "    .dataframe tbody tr th:only-of-type {\n",
       "        vertical-align: middle;\n",
       "    }\n",
       "\n",
       "    .dataframe tbody tr th {\n",
       "        vertical-align: top;\n",
       "    }\n",
       "\n",
       "    .dataframe thead th {\n",
       "        text-align: right;\n",
       "    }\n",
       "</style>\n",
       "<table border=\"1\" class=\"dataframe\">\n",
       "  <thead>\n",
       "    <tr style=\"text-align: right;\">\n",
       "      <th></th>\n",
       "      <th>Customer_Age</th>\n",
       "      <th>Gender</th>\n",
       "      <th>Dependent_count</th>\n",
       "      <th>Education_Level</th>\n",
       "      <th>Marital_Status</th>\n",
       "      <th>Income_Category</th>\n",
       "      <th>Card_Category</th>\n",
       "      <th>Months_on_book</th>\n",
       "      <th>Total_Relationship_Count</th>\n",
       "      <th>Months_Inactive_12_mon</th>\n",
       "      <th>Contacts_Count_12_mon</th>\n",
       "      <th>Credit_Limit</th>\n",
       "      <th>Total_Revolving_Bal</th>\n",
       "      <th>Avg_Open_To_Buy</th>\n",
       "      <th>Total_Amt_Chng_Q4_Q1</th>\n",
       "      <th>Total_Trans_Amt</th>\n",
       "      <th>Total_Trans_Ct</th>\n",
       "      <th>Total_Ct_Chng_Q4_Q1</th>\n",
       "      <th>Avg_Utilization_Ratio</th>\n",
       "    </tr>\n",
       "  </thead>\n",
       "  <tbody>\n",
       "    <tr>\n",
       "      <th>0</th>\n",
       "      <td>45</td>\n",
       "      <td>M</td>\n",
       "      <td>3</td>\n",
       "      <td>High School</td>\n",
       "      <td>Married</td>\n",
       "      <td>$60K - $80K</td>\n",
       "      <td>Blue</td>\n",
       "      <td>39</td>\n",
       "      <td>5</td>\n",
       "      <td>1</td>\n",
       "      <td>3</td>\n",
       "      <td>12691.0</td>\n",
       "      <td>777</td>\n",
       "      <td>11914.0</td>\n",
       "      <td>1.335</td>\n",
       "      <td>1144</td>\n",
       "      <td>42</td>\n",
       "      <td>1.625</td>\n",
       "      <td>0.061</td>\n",
       "    </tr>\n",
       "    <tr>\n",
       "      <th>1</th>\n",
       "      <td>49</td>\n",
       "      <td>F</td>\n",
       "      <td>5</td>\n",
       "      <td>Graduate</td>\n",
       "      <td>Single</td>\n",
       "      <td>Less than $40K</td>\n",
       "      <td>Blue</td>\n",
       "      <td>44</td>\n",
       "      <td>6</td>\n",
       "      <td>1</td>\n",
       "      <td>2</td>\n",
       "      <td>8256.0</td>\n",
       "      <td>864</td>\n",
       "      <td>7392.0</td>\n",
       "      <td>1.541</td>\n",
       "      <td>1291</td>\n",
       "      <td>33</td>\n",
       "      <td>3.714</td>\n",
       "      <td>0.105</td>\n",
       "    </tr>\n",
       "    <tr>\n",
       "      <th>2</th>\n",
       "      <td>51</td>\n",
       "      <td>M</td>\n",
       "      <td>3</td>\n",
       "      <td>Graduate</td>\n",
       "      <td>Married</td>\n",
       "      <td>$80K - $120K</td>\n",
       "      <td>Blue</td>\n",
       "      <td>36</td>\n",
       "      <td>4</td>\n",
       "      <td>1</td>\n",
       "      <td>0</td>\n",
       "      <td>3418.0</td>\n",
       "      <td>0</td>\n",
       "      <td>3418.0</td>\n",
       "      <td>2.594</td>\n",
       "      <td>1887</td>\n",
       "      <td>20</td>\n",
       "      <td>2.333</td>\n",
       "      <td>0.000</td>\n",
       "    </tr>\n",
       "    <tr>\n",
       "      <th>3</th>\n",
       "      <td>40</td>\n",
       "      <td>F</td>\n",
       "      <td>4</td>\n",
       "      <td>High School</td>\n",
       "      <td>Unknown</td>\n",
       "      <td>Less than $40K</td>\n",
       "      <td>Blue</td>\n",
       "      <td>34</td>\n",
       "      <td>3</td>\n",
       "      <td>4</td>\n",
       "      <td>1</td>\n",
       "      <td>3313.0</td>\n",
       "      <td>2517</td>\n",
       "      <td>796.0</td>\n",
       "      <td>1.405</td>\n",
       "      <td>1171</td>\n",
       "      <td>20</td>\n",
       "      <td>2.333</td>\n",
       "      <td>0.760</td>\n",
       "    </tr>\n",
       "    <tr>\n",
       "      <th>4</th>\n",
       "      <td>40</td>\n",
       "      <td>M</td>\n",
       "      <td>3</td>\n",
       "      <td>Uneducated</td>\n",
       "      <td>Married</td>\n",
       "      <td>$60K - $80K</td>\n",
       "      <td>Blue</td>\n",
       "      <td>21</td>\n",
       "      <td>5</td>\n",
       "      <td>1</td>\n",
       "      <td>0</td>\n",
       "      <td>4716.0</td>\n",
       "      <td>0</td>\n",
       "      <td>4716.0</td>\n",
       "      <td>2.175</td>\n",
       "      <td>816</td>\n",
       "      <td>28</td>\n",
       "      <td>2.500</td>\n",
       "      <td>0.000</td>\n",
       "    </tr>\n",
       "  </tbody>\n",
       "</table>\n",
       "</div>"
      ],
      "text/plain": [
       "   Customer_Age Gender  Dependent_count Education_Level Marital_Status  \\\n",
       "0            45      M                3     High School        Married   \n",
       "1            49      F                5        Graduate         Single   \n",
       "2            51      M                3        Graduate        Married   \n",
       "3            40      F                4     High School        Unknown   \n",
       "4            40      M                3      Uneducated        Married   \n",
       "\n",
       "  Income_Category Card_Category  Months_on_book  Total_Relationship_Count  \\\n",
       "0     $60K - $80K          Blue              39                         5   \n",
       "1  Less than $40K          Blue              44                         6   \n",
       "2    $80K - $120K          Blue              36                         4   \n",
       "3  Less than $40K          Blue              34                         3   \n",
       "4     $60K - $80K          Blue              21                         5   \n",
       "\n",
       "   Months_Inactive_12_mon  Contacts_Count_12_mon  Credit_Limit  \\\n",
       "0                       1                      3       12691.0   \n",
       "1                       1                      2        8256.0   \n",
       "2                       1                      0        3418.0   \n",
       "3                       4                      1        3313.0   \n",
       "4                       1                      0        4716.0   \n",
       "\n",
       "   Total_Revolving_Bal  Avg_Open_To_Buy  Total_Amt_Chng_Q4_Q1  \\\n",
       "0                  777          11914.0                 1.335   \n",
       "1                  864           7392.0                 1.541   \n",
       "2                    0           3418.0                 2.594   \n",
       "3                 2517            796.0                 1.405   \n",
       "4                    0           4716.0                 2.175   \n",
       "\n",
       "   Total_Trans_Amt  Total_Trans_Ct  Total_Ct_Chng_Q4_Q1  Avg_Utilization_Ratio  \n",
       "0             1144              42                1.625                  0.061  \n",
       "1             1291              33                3.714                  0.105  \n",
       "2             1887              20                2.333                  0.000  \n",
       "3             1171              20                2.333                  0.760  \n",
       "4              816              28                2.500                  0.000  "
      ]
     },
     "execution_count": 50,
     "metadata": {},
     "output_type": "execute_result"
    }
   ],
   "source": [
    "target = df['Churn']\n",
    "df= df.drop(columns=['IDs','Churn','Unnamed: 0'])\n",
    "df.head()"
   ]
  },
  {
   "cell_type": "code",
   "execution_count": 51,
   "id": "295a8c75-25fa-4fa4-bfa4-decf02afffaa",
   "metadata": {},
   "outputs": [
    {
     "name": "stdout",
     "output_type": "stream",
     "text": [
      "<class 'pandas.core.frame.DataFrame'>\n",
      "RangeIndex: 10127 entries, 0 to 10126\n",
      "Data columns (total 19 columns):\n",
      " #   Column                    Non-Null Count  Dtype  \n",
      "---  ------                    --------------  -----  \n",
      " 0   Customer_Age              10127 non-null  int64  \n",
      " 1   Gender                    10127 non-null  object \n",
      " 2   Dependent_count           10127 non-null  int64  \n",
      " 3   Education_Level           10127 non-null  object \n",
      " 4   Marital_Status            10127 non-null  object \n",
      " 5   Income_Category           10127 non-null  object \n",
      " 6   Card_Category             10127 non-null  object \n",
      " 7   Months_on_book            10127 non-null  int64  \n",
      " 8   Total_Relationship_Count  10127 non-null  int64  \n",
      " 9   Months_Inactive_12_mon    10127 non-null  int64  \n",
      " 10  Contacts_Count_12_mon     10127 non-null  int64  \n",
      " 11  Credit_Limit              10127 non-null  float64\n",
      " 12  Total_Revolving_Bal       10127 non-null  int64  \n",
      " 13  Avg_Open_To_Buy           10127 non-null  float64\n",
      " 14  Total_Amt_Chng_Q4_Q1      10127 non-null  float64\n",
      " 15  Total_Trans_Amt           10127 non-null  int64  \n",
      " 16  Total_Trans_Ct            10127 non-null  int64  \n",
      " 17  Total_Ct_Chng_Q4_Q1       10127 non-null  float64\n",
      " 18  Avg_Utilization_Ratio     10127 non-null  float64\n",
      "dtypes: float64(5), int64(9), object(5)\n",
      "memory usage: 1.5+ MB\n"
     ]
    }
   ],
   "source": [
    "df.info()"
   ]
  },
  {
   "cell_type": "markdown",
   "id": "b2c232c9-9f82-4f65-86cf-37facf1f53a8",
   "metadata": {},
   "source": [
    "## Feature Engineering"
   ]
  },
  {
   "cell_type": "code",
   "execution_count": 52,
   "id": "d0eb4204-cc7a-4527-bc00-5c1a8fbc013e",
   "metadata": {},
   "outputs": [],
   "source": [
    "def new_features(data):\n",
    "    data['Tenure_Age_ratio'] = data['Months_on_book'] /(data['Customer_Age'] *12)\n",
    "    data['Credit_Age_ratio'] = data['Credit_Limit'] /(data['Customer_Age']*12)\n",
    "    data['Utilization_per_Age'] = data['Avg_Utilization_Ratio'] /(data['Customer_Age']*12)\n",
    "    \n",
    "    data['Amount_per_credit'] = data['Total_Trans_Amt'] /(data['Credit_Limit'])\n",
    "    data['Amount_count_per_credit'] = data['Total_Trans_Ct'] /(data['Credit_Limit'])\n",
    "    \n",
    "    return data\n",
    "    \n",
    "    \n",
    "\n",
    "df = new_features(df)"
   ]
  },
  {
   "cell_type": "code",
   "execution_count": 53,
   "id": "1b1f24bc-4ea2-43e0-988d-a9649a167ad1",
   "metadata": {},
   "outputs": [
    {
     "data": {
      "text/plain": [
       "Utilization_per_Age       -0.171645\n",
       "Amount_per_credit         -0.133222\n",
       "Amount_count_per_credit   -0.132511\n",
       "Credit_Age_ratio          -0.029887\n",
       "Tenure_Age_ratio           0.000465\n",
       "Churn                      1.000000\n",
       "Name: Churn, dtype: float64"
      ]
     },
     "execution_count": 53,
     "metadata": {},
     "output_type": "execute_result"
    }
   ],
   "source": [
    "cols = pd.concat([target,df[['Tenure_Age_ratio','Credit_Age_ratio','Utilization_per_Age',\n",
    "                     'Amount_per_credit','Amount_count_per_credit']]],axis=1)\n",
    "cols.corr()['Churn'].sort_values()"
   ]
  },
  {
   "cell_type": "code",
   "execution_count": 54,
   "id": "9845ba9f-18cb-4ba2-a02b-a847467bb22a",
   "metadata": {},
   "outputs": [
    {
     "name": "stdout",
     "output_type": "stream",
     "text": [
      "Train Shape (8101, 24) (8101,)\n",
      "Valid Shape (2026, 24) (2026,)\n"
     ]
    }
   ],
   "source": [
    "num_features = df.select_dtypes(exclude=['object']).columns.tolist()\n",
    "cat_features = df.select_dtypes(include=['object']).columns.tolist()\n",
    "\n",
    "X = df[num_features + cat_features]\n",
    "y= target\n",
    "\n",
    "X_train, X_valid ,y_train , y_valid = train_test_split(X,y,test_size=0.2, random_state=42)\n",
    "print('Train Shape',X_train.shape,y_train.shape)\n",
    "print('Valid Shape',X_valid.shape,y_valid.shape)"
   ]
  },
  {
   "cell_type": "code",
   "execution_count": 55,
   "id": "7b519f63-c769-4f13-a1d4-f7a7cbc72511",
   "metadata": {},
   "outputs": [],
   "source": [
    "encode = OneHotEncoder(handle_unknown='ignore')\n",
    "scale = StandardScaler()\n",
    "\n",
    "preprocessor = ColumnTransformer(transformers=[\n",
    "    ('num',scale,num_features),\n",
    "    ('cat',encode,cat_features)\n",
    "])\n",
    "\n",
    "pipeline= Pipeline(steps=[\n",
    "      ('preprocessor',preprocessor)             \n",
    "])"
   ]
  },
  {
   "cell_type": "code",
   "execution_count": 56,
   "id": "34eb8e5c-3f32-47e2-ac95-794dc9d0c4ca",
   "metadata": {},
   "outputs": [
    {
     "data": {
      "text/plain": [
       "['../models/preprocess_pipeline.pkl']"
      ]
     },
     "execution_count": 56,
     "metadata": {},
     "output_type": "execute_result"
    }
   ],
   "source": [
    "X_train_processed = pipeline.fit_transform(X_train)\n",
    "X_valid_processed = pipeline.transform(X_valid)\n",
    "#save the pipeline\n",
    "joblib.dump(pipeline,'../models/preprocess_pipeline.pkl')"
   ]
  },
  {
   "cell_type": "markdown",
   "id": "6166d28d-aff2-4ae8-90e0-4d3993636192",
   "metadata": {},
   "source": [
    "## Models"
   ]
  },
  {
   "cell_type": "code",
   "execution_count": 57,
   "id": "66748cb6-b8e9-43e9-98b3-2add32edd152",
   "metadata": {},
   "outputs": [],
   "source": [
    "def gridSearch(model,param,X_train,y_train):\n",
    "    grid = GridSearchCV(model,param,cv=5,scoring='f1',n_jobs=-1,verbose=1)\n",
    "\n",
    "    grid.fit(X_train,y_train)\n",
    "    return grid.best_estimator_, grid.best_params_ , grid.best_score_"
   ]
  },
  {
   "cell_type": "markdown",
   "id": "a025e77f-081d-4561-a471-d5078c288a0c",
   "metadata": {},
   "source": [
    "### LogisticRegression"
   ]
  },
  {
   "cell_type": "code",
   "execution_count": 58,
   "id": "b8148231-9caf-46ee-acc4-1856ace60a2f",
   "metadata": {},
   "outputs": [],
   "source": [
    "log_param= {\n",
    "    'C': [0.01, 0.1, 1, 10, 100],  \n",
    "    'penalty': ['l1', 'l2', 'elasticnet'],\n",
    "    'solver': ['liblinear', 'newton-cg', 'lbfgs'],\n",
    "    'max_iter': [100, 200, 300],\n",
    "    'class_weight': ['balanced', None]}\n",
    "log_model = LogisticRegression(random_state = 42) \n",
    "\n",
    "# best_estimator, best_param,best_score = gridSearch(log_model,log_param,X_train_processed,y_train)\n",
    "# print(f\"Best Estimator :  {best_estimator}\")\n",
    "# print(f\"Best Parameters :  {best_param}\")\n",
    "# print(f\"Best Score :  {best_score}\")"
   ]
  },
  {
   "cell_type": "markdown",
   "id": "66aa17ad-83d4-4985-a835-b009da465059",
   "metadata": {},
   "source": [
    "**Best Logistic Regression Parameters:**\n",
    "\n",
    "C=100 | class_weight=None | max_iter=100 | penalty='l2' | solver='newton-cg'\n",
    "\n",
    "**Best Score:** 0.671\n",
    "\n",
    "Grid Search Details: Fitting 5 folds for each of 270 candidates, totalling 1350 fits"
   ]
  },
  {
   "cell_type": "code",
   "execution_count": 59,
   "id": "db8c3e05-c596-4c95-959f-6628541ea6ac",
   "metadata": {},
   "outputs": [
    {
     "data": {
      "image/png": "[encoded data removed]",
      "text/plain": [
       "<Figure size 640x480 with 2 Axes>"
      ]
     },
     "metadata": {},
     "output_type": "display_data"
    },
    {
     "name": "stdout",
     "output_type": "stream",
     "text": [
      "Classification Report :\n",
      "               precision    recall  f1-score   support\n",
      "\n",
      "           0       0.92      0.97      0.94      1699\n",
      "           1       0.76      0.56      0.64       327\n",
      "\n",
      "    accuracy                           0.90      2026\n",
      "   macro avg       0.84      0.76      0.79      2026\n",
      "weighted avg       0.89      0.90      0.89      2026\n",
      "\n"
     ]
    }
   ],
   "source": [
    "log_model = LogisticRegression(C=100,\n",
    "                              class_weight=None,\n",
    "                              max_iter= 100,\n",
    "                              penalty='l2',\n",
    "                              solver='newton-cg',\n",
    "                              random_state=42)\n",
    "\n",
    "log_model.fit(X_train_processed,y_train)\n",
    "log_y_pred = log_model.predict(X_valid_processed)\n",
    "\n",
    "cm = confusion_matrix(y_valid,log_y_pred)\n",
    "sns.heatmap(cm,annot=True,fmt='d')\n",
    "plt.show()\n",
    "print(\"Classification Report :\\n\",classification_report(y_valid,log_y_pred))"
   ]
  },
  {
   "cell_type": "markdown",
   "id": "13272420-4f87-40c3-80f6-8e93edff781b",
   "metadata": {},
   "source": [
    "### RandomForest"
   ]
  },
  {
   "cell_type": "code",
   "execution_count": 60,
   "id": "1b22a9b8-9b5a-40ca-8340-0ef92ed1b29d",
   "metadata": {},
   "outputs": [],
   "source": [
    "rf_param = {\n",
    "    'n_estimators': [300, 500,800],\n",
    "    'max_depth': [None, 5,10,20],\n",
    "    'min_samples_split': [2,3,5],\n",
    "    'min_samples_leaf': [1, 2,3],\n",
    "}\n",
    "\n",
    "rf_model = RandomForestClassifier(random_state=42)\n",
    "# best_estimator, best_param,best_score = gridSearch(rf_model,rf_param,X_train_processed,y_train)\n",
    "# print(f\"Best Estimator :  {best_estimator}\")\n",
    "# print(f\"Best Parameters :  {best_param}\")\n",
    "# print(f\"Best Score :  {best_score}\")\n"
   ]
  },
  {
   "cell_type": "markdown",
   "id": "ec93b3cc-b26a-471f-9668-d75dd2b7d207",
   "metadata": {},
   "source": [
    "**Best Random Forest Parameters:**\n",
    "\n",
    "max_depth=None | min_samples_leaf=1 | min_samples_split=2 | n_estimators=300\n",
    "\n",
    "**Best Score:** 0.8460\n",
    "\n",
    "Fitting 5 folds for each of 108 candidates, totalling 540 fits"
   ]
  },
  {
   "cell_type": "code",
   "execution_count": 61,
   "id": "3d7d6e59-cee2-477e-81b8-f1b99a424f5d",
   "metadata": {},
   "outputs": [
    {
     "data": {
      "image/png": "[encoded data removed]",
      "text/plain": [
       "<Figure size 640x480 with 2 Axes>"
      ]
     },
     "metadata": {},
     "output_type": "display_data"
    },
    {
     "name": "stdout",
     "output_type": "stream",
     "text": [
      "Classification Report :\n",
      "               precision    recall  f1-score   support\n",
      "\n",
      "           0       0.95      0.99      0.97      1699\n",
      "           1       0.93      0.76      0.83       327\n",
      "\n",
      "    accuracy                           0.95      2026\n",
      "   macro avg       0.94      0.87      0.90      2026\n",
      "weighted avg       0.95      0.95      0.95      2026\n",
      "\n"
     ]
    }
   ],
   "source": [
    "rf_model = RandomForestClassifier(\n",
    "    n_estimators= 300,\n",
    "    max_depth=None,\n",
    "    max_features='sqrt',\n",
    "    min_samples_split=2,\n",
    "    min_samples_leaf = 1,\n",
    "    random_state=42\n",
    ")\n",
    "rf_model.fit(X_train_processed,y_train)\n",
    "rf_y_pred = rf_model.predict(X_valid_processed)\n",
    "cm = confusion_matrix(y_valid,rf_y_pred)\n",
    "sns.heatmap(cm,annot=True,fmt='d')\n",
    "plt.show()\n",
    "print(\"Classification Report :\\n\",classification_report(y_valid,rf_y_pred))"
   ]
  },
  {
   "cell_type": "markdown",
   "id": "5a04b8c3-4068-4500-89fd-0bd57584f44d",
   "metadata": {},
   "source": [
    "### XGB"
   ]
  },
  {
   "cell_type": "code",
   "execution_count": 62,
   "id": "946c8c95-65f5-480a-bfe8-d256d57ee7b3",
   "metadata": {},
   "outputs": [],
   "source": [
    "xgb_param ={\n",
    "    'n_estimators': [300, 500, 800],\n",
    "    'learning_rate': [0.01, 0.1,0.5],\n",
    "    'max_depth': [3, 5, 7],\n",
    "    'subsample': [0.8, 1.0],\n",
    "    'colsample_bytree': [0.8, 1.0]\n",
    "\n",
    "}\n",
    "xgb_model = XGBClassifier(random_state=42,eval_metric='logloss')\n",
    "# best_estimator, best_param,best_score = gridSearch(xgb_model,xgb_param,X_train_processed,y_train)\n",
    "# print(f\"Best Estimator :  {best_estimator}\")\n",
    "# print(f\"Best Parameters :  {best_param}\")\n",
    "# print(f\"Best Score :  {best_score}\")"
   ]
  },
  {
   "cell_type": "markdown",
   "id": "df698824-ffd2-4828-b75c-d0d81d468dc2",
   "metadata": {},
   "source": [
    "**Best Parameters:**\n",
    "learning_rate=0.1 | max_depth=3 | n_estimators=300 | subsample=0.8 | colsample_bytree=1.0\n",
    "\n",
    "**Best Score (ROC AUC):**\n",
    "0.921\n",
    "\n",
    "The best parameters were selected using 5-fold GridSearchCV over 144 candidates (720 fits) and applied directly to the XGB classifier."
   ]
  },
  {
   "cell_type": "code",
   "execution_count": 64,
   "id": "bdd71189-85f1-4deb-9b73-78b1833daf47",
   "metadata": {},
   "outputs": [
    {
     "data": {
      "image/png": "[encoded data removed]",
      "text/plain": [
       "<Figure size 640x480 with 2 Axes>"
      ]
     },
     "metadata": {},
     "output_type": "display_data"
    },
    {
     "name": "stdout",
     "output_type": "stream",
     "text": [
      "Classification Report :\n",
      "               precision    recall  f1-score   support\n",
      "\n",
      "           0       0.98      0.98      0.98      1699\n",
      "           1       0.91      0.88      0.90       327\n",
      "\n",
      "    accuracy                           0.97      2026\n",
      "   macro avg       0.95      0.93      0.94      2026\n",
      "weighted avg       0.97      0.97      0.97      2026\n",
      "\n"
     ]
    }
   ],
   "source": [
    "xgb_model = XGBClassifier(\n",
    "    learning_rate=0.1,\n",
    "    max_depth=3,\n",
    "    n_estimators=300,\n",
    "    subsample=0.8,\n",
    "    colsample_bytree=1.0,\n",
    "    eval_metric='logloss',\n",
    "    random_state=42)\n",
    "xgb_model.fit(X_train_processed,y_train)\n",
    "xgb_y_pred = xgb_model.predict(X_valid_processed)\n",
    "cm = confusion_matrix(y_valid,xgb_y_pred)\n",
    "sns.heatmap(cm,annot=True,fmt='d')\n",
    "plt.show()\n",
    "print(\"Classification Report :\\n\",classification_report(y_valid,xgb_y_pred))"
   ]
  },
  {
   "cell_type": "markdown",
   "id": "36f3f8a1-b5ea-4a99-b7a5-48b8d99f24c3",
   "metadata": {},
   "source": [
    "The **XGBoost model** performed the best with **97% accuracy** and an **F1-score of 0.90**.\n"
   ]
  },
  {
   "cell_type": "code",
   "execution_count": 65,
   "id": "ec35db00-fc19-4a0f-a673-38032d4de977",
   "metadata": {},
   "outputs": [
    {
     "data": {
      "text/plain": [
       "['../models/best_model.pkl']"
      ]
     },
     "execution_count": 65,
     "metadata": {},
     "output_type": "execute_result"
    }
   ],
   "source": [
    "joblib.dump(xgb_model,'../models/best_model.pkl')"
   ]
  },
  {
   "cell_type": "code",
   "execution_count": null,
   "id": "955a4dd3-4fda-4a93-b5f8-083b064a30d9",
   "metadata": {},
   "outputs": [],
   "source": []
  }
 ],
 "metadata": {
  "kernelspec": {
   "display_name": "Python [conda env:base] *",
   "language": "python",
   "name": "conda-base-py"
  },
  "language_info": {
   "codemirror_mode": {
    "name": "ipython",
    "version": 3
   },
   "file_extension": ".py",
   "mimetype": "text/x-python",
   "name": "python",
   "nbconvert_exporter": "python",
   "pygments_lexer": "ipython3",
   "version": "3.13.5"
  }
 },
 "nbformat": 4,
 "nbformat_minor": 5
}
